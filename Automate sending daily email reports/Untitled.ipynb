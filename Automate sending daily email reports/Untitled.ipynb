{
 "cells": [
  {
   "cell_type": "code",
   "execution_count": 1,
   "id": "66a9f440-3f5f-40df-a084-96833a039212",
   "metadata": {},
   "outputs": [
    {
     "name": "stdout",
     "output_type": "stream",
     "text": [
      "Note: you may need to restart the kernel to use updated packages.\n"
     ]
    },
    {
     "name": "stderr",
     "output_type": "stream",
     "text": [
      "ERROR: Could not find a version that satisfies the requirement smtplib (from versions: none)\n",
      "ERROR: No matching distribution found for smtplib\n"
     ]
    }
   ],
   "source": [
    "pip install smtplib"
   ]
  },
  {
   "cell_type": "code",
   "execution_count": 2,
   "id": "31a82def-7432-4ae5-815b-946045b8fe93",
   "metadata": {},
   "outputs": [
    {
     "name": "stdout",
     "output_type": "stream",
     "text": [
      "Collecting email\n",
      "  Downloading email-4.0.2.tar.gz (1.2 MB)\n",
      "     ---------------------------------------- 0.0/1.2 MB ? eta -:--:--\n",
      "     ---------------------------------------- 0.0/1.2 MB ? eta -:--:--\n",
      "     ---------------------------------------- 0.0/1.2 MB ? eta -:--:--\n",
      "     - -------------------------------------- 0.0/1.2 MB 262.6 kB/s eta 0:00:05\n",
      "     - -------------------------------------- 0.0/1.2 MB 262.6 kB/s eta 0:00:05\n",
      "     - -------------------------------------- 0.0/1.2 MB 179.6 kB/s eta 0:00:07\n",
      "     -- ------------------------------------- 0.1/1.2 MB 234.9 kB/s eta 0:00:05\n",
      "     --- ------------------------------------ 0.1/1.2 MB 291.5 kB/s eta 0:00:04\n",
      "     --- ------------------------------------ 0.1/1.2 MB 291.5 kB/s eta 0:00:04\n",
      "     --- ------------------------------------ 0.1/1.2 MB 298.5 kB/s eta 0:00:04\n",
      "     ----- ---------------------------------- 0.2/1.2 MB 389.2 kB/s eta 0:00:03\n",
      "     ------- -------------------------------- 0.2/1.2 MB 459.5 kB/s eta 0:00:03\n",
      "     ------- -------------------------------- 0.2/1.2 MB 459.5 kB/s eta 0:00:03\n",
      "     -------- ------------------------------- 0.3/1.2 MB 437.3 kB/s eta 0:00:03\n",
      "     ---------- ----------------------------- 0.3/1.2 MB 535.3 kB/s eta 0:00:02\n",
      "     --------------- ------------------------ 0.5/1.2 MB 702.4 kB/s eta 0:00:02\n",
      "     ---------------- ----------------------- 0.5/1.2 MB 717.3 kB/s eta 0:00:02\n",
      "     ----------------- ---------------------- 0.5/1.2 MB 682.7 kB/s eta 0:00:02\n",
      "     --------------------- ------------------ 0.7/1.2 MB 810.5 kB/s eta 0:00:01\n",
      "     ---------------------------- ----------- 0.9/1.2 MB 1.0 MB/s eta 0:00:01\n",
      "     --------------------------------- ------ 1.0/1.2 MB 1.2 MB/s eta 0:00:01\n",
      "     ------------------------------------ --- 1.1/1.2 MB 1.2 MB/s eta 0:00:01\n",
      "     ---------------------------------------- 1.2/1.2 MB 1.2 MB/s eta 0:00:00\n",
      "  Preparing metadata (setup.py): started\n",
      "  Preparing metadata (setup.py): finished with status 'error'\n",
      "Note: you may need to restart the kernel to use updated packages.\n"
     ]
    },
    {
     "name": "stderr",
     "output_type": "stream",
     "text": [
      "  error: subprocess-exited-with-error\n",
      "  \n",
      "  python setup.py egg_info did not run successfully.\n",
      "  exit code: 1\n",
      "  \n",
      "  [24 lines of output]\n",
      "  Traceback (most recent call last):\n",
      "    File \"<string>\", line 2, in <module>\n",
      "    File \"<pip-setuptools-caller>\", line 14, in <module>\n",
      "    File \"C:\\Users\\ASUS\\anaconda3\\Lib\\site-packages\\setuptools\\__init__.py\", line 8, in <module>\n",
      "      import _distutils_hack.override  # noqa: F401\n",
      "      ^^^^^^^^^^^^^^^^^^^^^^^^^^^^^^^\n",
      "    File \"C:\\Users\\ASUS\\anaconda3\\Lib\\site-packages\\_distutils_hack\\override.py\", line 1, in <module>\n",
      "      __import__('_distutils_hack').do_override()\n",
      "    File \"C:\\Users\\ASUS\\anaconda3\\Lib\\site-packages\\_distutils_hack\\__init__.py\", line 70, in do_override\n",
      "      ensure_local_distutils()\n",
      "    File \"C:\\Users\\ASUS\\anaconda3\\Lib\\site-packages\\_distutils_hack\\__init__.py\", line 56, in ensure_local_distutils\n",
      "      core = importlib.import_module('distutils.core')\n",
      "             ^^^^^^^^^^^^^^^^^^^^^^^^^^^^^^^^^^^^^^^^^\n",
      "    File \"C:\\Users\\ASUS\\anaconda3\\Lib\\importlib\\__init__.py\", line 126, in import_module\n",
      "      return _bootstrap._gcd_import(name[level:], package, level)\n",
      "             ^^^^^^^^^^^^^^^^^^^^^^^^^^^^^^^^^^^^^^^^^^^^^^^^^^^^\n",
      "    File \"C:\\Users\\ASUS\\anaconda3\\Lib\\site-packages\\setuptools\\_distutils\\core.py\", line 14, in <module>\n",
      "      from .config import PyPIRCCommand\n",
      "    File \"C:\\Users\\ASUS\\anaconda3\\Lib\\site-packages\\setuptools\\_distutils\\config.py\", line 7, in <module>\n",
      "      import email.message\n",
      "    File \"C:\\Users\\ASUS\\AppData\\Local\\Temp\\pip-install-pf__7yaw\\email_579037f5e702485bbe76c07e1313aad8\\email\\message.py\", line 255\n",
      "      if str(charset) <> charset.get_output_charset():\n",
      "                      ^^\n",
      "  SyntaxError: invalid syntax\n",
      "  [end of output]\n",
      "  \n",
      "  note: This error originates from a subprocess, and is likely not a problem with pip.\n",
      "error: metadata-generation-failed\n",
      "\n",
      "Encountered error while generating package metadata.\n",
      "\n",
      "See above for output.\n",
      "\n",
      "note: This is an issue with the package mentioned above, not pip.\n",
      "hint: See above for details.\n"
     ]
    }
   ],
   "source": [
    "pip install email"
   ]
  },
  {
   "cell_type": "code",
   "execution_count": 3,
   "id": "c9060370-26c5-4edc-90e4-6e7eb2542f74",
   "metadata": {},
   "outputs": [
    {
     "name": "stdout",
     "output_type": "stream",
     "text": [
      "Note: you may need to restart the kernel to use updated packages.\n"
     ]
    },
    {
     "name": "stderr",
     "output_type": "stream",
     "text": [
      "ERROR: Could not find a version that satisfies the requirement os (from versions: none)\n",
      "ERROR: No matching distribution found for os\n"
     ]
    }
   ],
   "source": [
    "pip install os"
   ]
  },
  {
   "cell_type": "code",
   "execution_count": 4,
   "id": "8001e66f-afec-4c81-bc33-80367b78ee71",
   "metadata": {},
   "outputs": [
    {
     "ename": "SyntaxError",
     "evalue": "invalid syntax (3680688116.py, line 1)",
     "output_type": "error",
     "traceback": [
      "\u001b[1;36m  Cell \u001b[1;32mIn[4], line 1\u001b[1;36m\u001b[0m\n\u001b[1;33m    set EMAIL_PASSWORD=yourpassword\u001b[0m\n\u001b[1;37m        ^\u001b[0m\n\u001b[1;31mSyntaxError\u001b[0m\u001b[1;31m:\u001b[0m invalid syntax\n"
     ]
    }
   ],
   "source": [
    "set EMAIL_PASSWORD=yourpassword"
   ]
  },
  {
   "cell_type": "code",
   "execution_count": 5,
   "id": "c8e5601a-cd5c-4fe7-9b42-128f839a4a81",
   "metadata": {},
   "outputs": [
    {
     "ename": "SyntaxError",
     "evalue": "unexpected character after line continuation character (1624176635.py, line 1)",
     "output_type": "error",
     "traceback": [
      "\u001b[1;36m  Cell \u001b[1;32mIn[5], line 1\u001b[1;36m\u001b[0m\n\u001b[1;33m    C:\\path\\to\\python.exe C:\\path\\to\\daily_email_report.py\u001b[0m\n\u001b[1;37m       ^\u001b[0m\n\u001b[1;31mSyntaxError\u001b[0m\u001b[1;31m:\u001b[0m unexpected character after line continuation character\n"
     ]
    }
   ],
   "source": [
    "C:\\path\\to\\python.exe C:\\path\\to\\daily_email_report.py"
   ]
  },
  {
   "cell_type": "code",
   "execution_count": null,
   "id": "f13fc98f-4e08-4c3f-8380-1b7be4664e9c",
   "metadata": {},
   "outputs": [],
   "source": []
  },
  {
   "cell_type": "code",
   "execution_count": 2,
   "id": "14c6273d-6f18-46b9-8e25-08d54d65d38d",
   "metadata": {},
   "outputs": [
    {
     "name": "stdout",
     "output_type": "stream",
     "text": [
      "Failed to send email. Error: 'NoneType' object has no attribute 'encode'\n"
     ]
    }
   ],
   "source": [
    "import smtplib\n",
    "from email.mime.multipart import MIMEMultipart\n",
    "from email.mime.text import MIMEText\n",
    "from datetime import datetime\n",
    "import os\n",
    "\n",
    "# Function to send an email\n",
    "def send_email(subject, body, to_email, from_email, from_password, smtp_server, smtp_port):\n",
    "    # Create message container\n",
    "    msg = MIMEMultipart()\n",
    "    msg['From'] = from_email\n",
    "    msg['To'] = to_email\n",
    "    msg['Subject'] = subject\n",
    "\n",
    "    # Attach the message body\n",
    "    msg.attach(MIMEText(body, 'plain'))\n",
    "\n",
    "    # Set up the SMTP server and send the email\n",
    "    try:\n",
    "        server = smtplib.SMTP(smtp_server, smtp_port)\n",
    "        server.starttls()  # Secure the connection\n",
    "        server.login(from_email, from_password)\n",
    "        text = msg.as_string()\n",
    "        server.sendmail(from_email, to_email, text)\n",
    "        print(f\"Email sent successfully to {to_email}\")\n",
    "    except Exception as e:\n",
    "        print(f\"Failed to send email. Error: {e}\")\n",
    "    finally:\n",
    "        server.quit()\n",
    "\n",
    "# Function to generate the daily report (this is where you'd generate your custom report)\n",
    "def generate_daily_report():\n",
    "    # Example: Just returning the current date as the report for demonstration\n",
    "    report = f\"Daily Report - {datetime.now().strftime('%Y-%m-%d')}\\n\"\n",
    "    report += \"Here is the content of the daily report.\"\n",
    "    return report\n",
    "\n",
    "if __name__ == \"__main__\":\n",
    "    # Email configuration\n",
    "    to_email = \"recipient@example.com\"\n",
    "    from_email = \"youremail@example.com\"\n",
    "    from_password = os.getenv(\"EMAIL_PASSWORD\")  # Best practice: use environment variables for sensitive data\n",
    "    smtp_server = \"smtp.gmail.com\"\n",
    "    smtp_port = 587\n",
    "\n",
    "    # Generate the daily report\n",
    "    report = generate_daily_report()\n",
    "\n",
    "    # Send the email\n",
    "    send_email(subject=\"Daily Report\", body=report, to_email=to_email, from_email=from_email, from_password=from_password, smtp_server=smtp_server, smtp_port=smtp_port)\n"
   ]
  },
  {
   "cell_type": "code",
   "execution_count": null,
   "id": "0f2cff41-7241-4547-965c-c25da24afac9",
   "metadata": {},
   "outputs": [],
   "source": []
  }
 ],
 "metadata": {
  "kernelspec": {
   "display_name": "Python 3 (ipykernel)",
   "language": "python",
   "name": "python3"
  },
  "language_info": {
   "codemirror_mode": {
    "name": "ipython",
    "version": 3
   },
   "file_extension": ".py",
   "mimetype": "text/x-python",
   "name": "python",
   "nbconvert_exporter": "python",
   "pygments_lexer": "ipython3",
   "version": "3.11.7"
  }
 },
 "nbformat": 4,
 "nbformat_minor": 5
}
